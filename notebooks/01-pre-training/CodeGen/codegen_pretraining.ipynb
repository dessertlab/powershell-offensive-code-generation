{
  "cells": [
    {
      "cell_type": "code",
      "execution_count": null,
      "metadata": {
        "id": "FKqQB_axW4rJ",
        "outputId": "190481c5-600e-4f7f-b4fb-d9065d32deab"
      },
      "outputs": [],
      "source": [
        "!CUDA_LAUNCH_BLOCKING=1 python3 ./../../text-to-code/CodeCompletion-token/code/run_lm.py \\\n",
        "        --data_dir '../dataset/' \\\n",
        "        --langs 'powershell' \\\n",
        "        --output_dir '.' \\\n",
        "        --pretrain_dir 'Salesforce/codegen-350M-multi' \\\n",
        "        --model_type=codegen \\\n",
        "        --block_size=256 \\\n",
        "        --do_train \\\n",
        "        --not_pretrain \\\n",
        "        --node_index 0 \\\n",
        "        --gpu_per_node 1 \\\n",
        "        --learning_rate=5e-5 \\\n",
        "        --weight_decay=0.01 \\\n",
        "        --per_gpu_train_batch_size=4 \\\n",
        "        --gradient_accumulation_steps=2 \\\n",
        "        --num_train_epochs=1 \\\n",
        "        --logging_steps=200 \\\n",
        "        --save_steps=4000 \\\n",
        "        --save_total_limit=1 \\\n",
        "        --overwrite_output_dir \\\n",
        "        --log_file='log_pretraining_codegen' \\\n",
        "        --seed=42 \\\n",
        "        --hf_token ''"
      ]
    }
  ],
  "metadata": {
    "colab": {
      "provenance": []
    },
    "kernelspec": {
      "display_name": ".venv",
      "language": "python",
      "name": "python3"
    },
    "language_info": {
      "codemirror_mode": {
        "name": "ipython",
        "version": 3
      },
      "file_extension": ".py",
      "mimetype": "text/x-python",
      "name": "python",
      "nbconvert_exporter": "python",
      "pygments_lexer": "ipython3",
      "version": "3.10.12"
    }
  },
  "nbformat": 4,
  "nbformat_minor": 0
}
